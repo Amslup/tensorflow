{
 "cells": [
  {
   "cell_type": "markdown",
   "metadata": {},
   "source": [
    "# Train MNIST Classifier and Export for TF Lite Micro\n",
    "\n",
    "This notebook describes how to create and train a simple MNIST classification model and then convert the model to a form ready to be compiled into a Tensorflow lite micro project. In this example all these steps are performed by a single python script.\n",
    "\n",
    "The classification model is trained for 1000 steps to reduce execution time, since the main purpose of this notebook is to demonstrate the export process.\n",
    "\n",
    "First we import neccessary packages and modules and load the MNIST dataset."
   ]
  },
  {
   "cell_type": "code",
   "execution_count": 1,
   "metadata": {},
   "outputs": [
    {
     "name": "stdout",
     "output_type": "stream",
     "text": [
      "Getting training data\n",
      "Done\n"
     ]
    }
   ],
   "source": [
    "import os\n",
    "import sys\n",
    "import numpy as np\n",
    "\n",
    "import tensorflow as tf\n",
    "import fetch_mnist\n",
    "import layers\n",
    "import flatbuffer_2_tfl_micro as save_tflm\n",
    "import progress_bar as pb\n",
    "\n",
    "print(\"Getting training data\")\n",
    "mnist = fetch_mnist.MNISTDataset()\n",
    "print(\"Done\")"
   ]
  },
  {
   "cell_type": "markdown",
   "metadata": {},
   "source": [
    "### Building the Model\n",
    "\n",
    "We build a simple classification model comprised of three fully connected layers."
   ]
  },
  {
   "cell_type": "code",
   "execution_count": 2,
   "metadata": {
    "scrolled": true
   },
   "outputs": [
    {
     "name": "stdout",
     "output_type": "stream",
     "text": [
      "WARNING:tensorflow:From /home/user/.local/lib/python3.5/site-packages/tensorflow_core/python/ops/resource_variable_ops.py:1635: calling BaseResourceVariable.__init__ (from tensorflow.python.ops.resource_variable_ops) with constraint is deprecated and will be removed in a future version.\n",
      "Instructions for updating:\n",
      "If using Keras pass *_constraint arguments to layers.\n",
      "Model Built Okay.\n"
     ]
    }
   ],
   "source": [
    "sess = tf.compat.v1.InteractiveSession()\n",
    "tf.compat.v1.disable_eager_execution()\n",
    "\n",
    "with tf.name_scope('input'):\n",
    "    x = tf.compat.v1.placeholder(tf.float32, [None, 28, 28], name='x-input')\n",
    "    y_ = tf.compat.v1.placeholder(tf.int64, [None], name='y-input')\n",
    "\n",
    "x_flat = tf.reshape(x, [-1, 784], name='x_flat')\n",
    "hidden1 = layers.nn_layer(x_flat, 784, 25, 'layer1', act=tf.nn.relu)\n",
    "hidden2 = layers.nn_layer(hidden1, 25, 25, 'layer2', act=tf.nn.relu)\n",
    "y = layers.nn_layer(hidden2, 25, 10, 'layer3', act=tf.identity)\n",
    "classifcation = tf.compat.v1.argmax(y,\n",
    "                                    name='classification',\n",
    "                                    axis=1,\n",
    "                                    output_type=tf.dtypes.int32)\n",
    "print('Model Built Okay.')"
   ]
  },
  {
   "cell_type": "markdown",
   "metadata": {},
   "source": [
    "### Training the Model\n",
    "\n",
    "The model is trained for 1000 iterations, using the cross entropy loss function."
   ]
  },
  {
   "cell_type": "code",
   "execution_count": 3,
   "metadata": {},
   "outputs": [
    {
     "name": "stdout",
     "output_type": "stream",
     "text": [
      "Training MNIST Classifier [\u001b[92m#######################################=\u001b[0m] 100.00% Accuracy is [0.8941]\n",
      "Training Complete.\n"
     ]
    }
   ],
   "source": [
    "[train_step, accuracy] = layers.cross_entropy_training(y, y_)\n",
    "tf.compat.v1.global_variables_initializer().run()\n",
    "training_steps = 1000\n",
    "def feed_dict(train_d):\n",
    "    if train_d:\n",
    "        xs, ys = mnist.get_batch(100)\n",
    "    else:\n",
    "        xs, ys = mnist.x_test, mnist.y_test\n",
    "    return {x: xs, y_: ys}\n",
    "\n",
    "acc = 0\n",
    "for i in range(training_steps):\n",
    "    if i % 10 == 0:  # Record summaries and test-set accuracy\n",
    "        acc = sess.run([accuracy], feed_dict=feed_dict(False))\n",
    "        pb.update_progress_bar(i / float(training_steps),\n",
    "                             pre_msg='Training MNIST Classifier',\n",
    "                             post_msg='Accuracy is %s' % acc, size=40)\n",
    "    else:  # Record train set summaries, and train\n",
    "        sess.run([train_step], feed_dict=feed_dict(True))\n",
    "pb.update_progress_bar(1.0,\n",
    "                       pre_msg='Training MNIST Classifier',\n",
    "                       post_msg='Accuracy is %s' % acc, size=40,\n",
    "                       c_return='\\n')\n",
    "print('Training Complete.')"
   ]
  },
  {
   "cell_type": "markdown",
   "metadata": {},
   "source": [
    "### Exporting the Model for Tensorflow lite micro\n",
    "\n",
    "Now our MNIST classifier has been built and trained we're ready to export the model so that it can be built into the Tensorflow lite micro project and read by the micro-interpreter. First the model is converted into a Tensorflow lite flatbuffer which can be used by the micro-interpreter. However since the micro-controllers which will run the model do not have file systems, this flatbuffer needs to be compiled into the binary. So the flatbuffer is converted into a **.cc** and **.h** file pair, so it can be compiled along with the rest of the project.\n",
    "This is done using the **write_tf_lite_micro_model()** helper function provided with this example."
   ]
  },
  {
   "cell_type": "code",
   "execution_count": 6,
   "metadata": {},
   "outputs": [
    {
     "name": "stdout",
     "output_type": "stream",
     "text": [
      "INFO:tensorflow:Froze 6 variables.\n",
      "INFO:tensorflow:Converted 6 variables to const ops.\n",
      "Complete\n"
     ]
    }
   ],
   "source": [
    "converter = tf.compat.v1.lite.TFLiteConverter.from_session(sess, [x], [classifcation])\n",
    "\n",
    "save_tflm.write_tf_lite_micro_model(converter.convert(),\n",
    "                                    base_file_name=\"mnist_model\",\n",
    "                                    data_variable_name=\"mnist_dense_model_tflite\",\n",
    "                                    header_comment=\"Example MNIST classification model,\"\n",
    "                                                   \"for use with TFlite Micro\")\n",
    "print(\"Complete\")"
   ]
  },
  {
   "cell_type": "markdown",
   "metadata": {},
   "source": [
    "When this script has finished executing two new files **mnist_model.cc** and **mnist_model.h** have been generated, ready to be compiled into the MNIST Tensorflow lite micro example. "
   ]
  }
 ],
 "metadata": {
  "kernelspec": {
   "display_name": "Python 3",
   "language": "python",
   "name": "python3"
  },
  "language_info": {
   "codemirror_mode": {
    "name": "ipython",
    "version": 3
   },
   "file_extension": ".py",
   "mimetype": "text/x-python",
   "name": "python",
   "nbconvert_exporter": "python",
   "pygments_lexer": "ipython3",
   "version": "3.5.2"
  }
 },
 "nbformat": 4,
 "nbformat_minor": 4
}
