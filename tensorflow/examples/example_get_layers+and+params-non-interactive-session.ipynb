{
 "cells": [
  {
   "cell_type": "code",
   "execution_count": 1,
   "metadata": {
    "collapsed": true
   },
   "outputs": [],
   "source": [
    "# import required packages\n",
    "import re\n",
    "import tensorflow as tf"
   ]
  },
  {
   "cell_type": "code",
   "execution_count": 2,
   "metadata": {
    "collapsed": true
   },
   "outputs": [],
   "source": [
    "# locate the saved models\n",
    "dir_path  = './'\n",
    "meta_file = 'my_model_final.ckpt.meta'\n",
    "meta_path = ''.join([dir_path, meta_file])"
   ]
  },
  {
   "cell_type": "code",
   "execution_count": 3,
   "metadata": {
    "collapsed": true,
    "scrolled": true
   },
   "outputs": [],
   "source": [
    "# function to extract layer names\n",
    "def get_layer_names(graph=None):\n",
    "    \"\"\" Fetches layer names of a tensorflow model graph\n",
    "    Args: \n",
    "        [Optional] graph: graph of the model\n",
    "    Returns:\n",
    "        A list of layer names of the model.\n",
    "\n",
    "        example:\n",
    "            layers, graph = get_layer_names(graph)\n",
    "\n",
    "    \"\"\"\n",
    "    if graph is None:\n",
    "        graph = tf.get_default_graph()\n",
    "    L = []\n",
    "    for i in graph.get_collection(tf.GraphKeys.GLOBAL_VARIABLES):\n",
    "        v = re.search(r'\\w+\\/\\w+\\:\\d', str(i)).group(0)\n",
    "        v = v.split(\":\")[0]\n",
    "        layerName = v.split(\"/\")[0]\n",
    "        L.append(layerName)\n",
    "    return sorted(list(set(L))), graph"
   ]
  },
  {
   "cell_type": "code",
   "execution_count": 4,
   "metadata": {
    "collapsed": true
   },
   "outputs": [],
   "source": [
    "# function to extract variable values\n",
    "def get_variable_values(layer, graph=tf.get_default_graph()):\n",
    "    \"\"\" Fetches Variables of the given layer\n",
    "    Args: \n",
    "        layer: layer of the model\n",
    "    Returns:\n",
    "        A Dictionary containing Kernels and Biases.\n",
    "\n",
    "        example:\n",
    "            layerWb, param_dict = get_variables(layer, graph)\n",
    "\n",
    "    \"\"\"\n",
    "\n",
    "    M = []\n",
    "    P = []\n",
    "    param_dict = {}\n",
    "    P_Wb = {}\n",
    "\n",
    "    for i in tf.get_collection(tf.GraphKeys.TRAINABLE_VARIABLES, scope=layer):\n",
    "        m = re.search(r'\\w+\\/\\w+\\:\\d', str(i)).group(0)\n",
    "        M.append(m)\n",
    "        v = m.split(\":\")[0]\n",
    "        param_type = ''.join(v.split(\"/\")[1])\n",
    "        P.append(param_type)\n",
    "        print((\"saving: {}\".format(m)))\n",
    "    param_dict[P[0]] = graph.get_tensor_by_name(M[0]).eval()  # Weights\n",
    "    param_dict[P[1]] = graph.get_tensor_by_name(M[1]).eval()  # biases\n",
    "    return param_dict"
   ]
  },
  {
   "cell_type": "code",
   "execution_count": 5,
   "metadata": {},
   "outputs": [
    {
     "name": "stdout",
     "output_type": "stream",
     "text": [
      "INFO:tensorflow:Restoring parameters from ./my_model_final.ckpt\n",
      "['hidden1', 'hidden2', 'outputs']\n",
      "saving: hidden1/kernel:0\n",
      "saving: hidden1/bias:0\n",
      "saving: hidden2/kernel:0\n",
      "saving: hidden2/bias:0\n",
      "saving: outputs/kernel:0\n",
      "saving: outputs/bias:0\n"
     ]
    }
   ],
   "source": [
    "# restore the model and get layer names and respective variable values.\n",
    "tf.reset_default_graph()\n",
    "params = dict()\n",
    "with tf.Session() as sess:\n",
    "    saver = tf.train.import_meta_graph(meta_path)\n",
    "    saver.restore(sess, tf.train.latest_checkpoint(dir_path))\n",
    "    layers, g = get_layer_names()\n",
    "    print(layers)\n",
    "    params.update({layer: get_variable_values(layer, g) for layer in layers})"
   ]
  },
  {
   "cell_type": "code",
   "execution_count": 6,
   "metadata": {
    "collapsed": true
   },
   "outputs": [],
   "source": [
    "W1 = params['hidden1']['kernel']\n",
    "b1 = params['hidden1']['bias']"
   ]
  },
  {
   "cell_type": "code",
   "execution_count": 7,
   "metadata": {
    "collapsed": true
   },
   "outputs": [],
   "source": [
    "W2 = params['hidden2']['kernel']\n",
    "b2 = params['hidden2']['bias']"
   ]
  },
  {
   "cell_type": "code",
   "execution_count": 8,
   "metadata": {},
   "outputs": [],
   "source": [
    "W3 = params['outputs']['kernel']\n",
    "b3 = params['outputs']['bias']"
   ]
  }
 ],
 "metadata": {
  "kernelspec": {
   "display_name": "Python 3",
   "language": "python",
   "name": "python3"
  },
  "language_info": {
   "codemirror_mode": {
    "name": "ipython",
    "version": 3
   },
   "file_extension": ".py",
   "mimetype": "text/x-python",
   "name": "python",
   "nbconvert_exporter": "python",
   "pygments_lexer": "ipython3",
   "version": "3.6.1"
  },
  "toc": {
   "colors": {
    "hover_highlight": "#DAA520",
    "navigate_num": "#000000",
    "navigate_text": "#333333",
    "running_highlight": "#FF0000",
    "selected_highlight": "#FFD700",
    "sidebar_border": "#EEEEEE",
    "wrapper_background": "#FFFFFF"
   },
   "moveMenuLeft": true,
   "nav_menu": {
    "height": "12px",
    "width": "252px"
   },
   "navigate_menu": true,
   "number_sections": true,
   "sideBar": true,
   "threshold": 4,
   "toc_cell": false,
   "toc_section_display": "block",
   "toc_window_display": false,
   "widenNotebook": false
  }
 },
 "nbformat": 4,
 "nbformat_minor": 2
}
