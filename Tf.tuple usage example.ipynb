# Usage Example for tf.tuple
## Google Code in 2019
For a problem in google code in i saw that there is no usage example for tf.tuple 
Please Go through [Tensorflow tf.tuple ](https://www.tensorflow.org/api_docs/python/tf/tuple)

{
  "nbformat": 4,
  "nbformat_minor": 0,
  "metadata": {
    "colab": {
      "name": "Untitled21.ipynb",
      "provenance": [],
      "collapsed_sections": [],
      "authorship_tag": "ABX9TyM1JgTFNFiKFwl50a2v3lbM",
      "include_colab_link": true
    },
    "kernelspec": {
      "name": "python3",
      "display_name": "Python 3"
    }
  },
  "cells": [
    {
      "cell_type": "markdown",
      "metadata": {
        "id": "view-in-github",
        "colab_type": "text"
      },
      "source": [
        "<a href=\"https://colab.research.google.com/github/CREVIOS/tensorflow/blob/master/Tf.tuple%20usage%20example.ipynb\" target=\"_parent\"><img src=\"https://colab.research.google.com/assets/colab-badge.svg\" alt=\"Open In Colab\"/></a>"
      ]
    },
    {
      "cell_type": "code",
      "metadata": {
        "id": "kXkZ7P9qcmds",
        "colab_type": "code",
        "outputId": "4882a57c-3004-475b-b8c7-e6cf15415b30",
        "colab": {
          "base_uri": "https://localhost:8080/",
          "height": 80
        }
      },
      "source": [
        "import tensorflow as tf\n",
        "a = tf.Variable([5])\n",
        "b = tf.Variable([6])\n",
        "c = a+b\n",
        "d = a*b\n",
        "e = a/b\n",
        "ops = tf.tuple([c,d,e])\n",
        "with tf.Session() as sess:\n",
        "    sess.run(tf.global_variables_initializer())\n",
        "    ee = sess.run(ops)\n",
        "    print(ee)\n",
        "#as 1234"
      ],
      "execution_count": 0,
      "outputs": [
        {
          "output_type": "display_data",
          "data": {
            "text/html": [
              "<p style=\"color: red;\">\n",
              "The default version of TensorFlow in Colab will soon switch to TensorFlow 2.x.<br>\n",
              "We recommend you <a href=\"https://www.tensorflow.org/guide/migrate\" target=\"_blank\">upgrade</a> now \n",
              "or ensure your notebook will continue to use TensorFlow 1.x via the <code>%tensorflow_version 1.x</code> magic:\n",
              "<a href=\"https://colab.research.google.com/notebooks/tensorflow_version.ipynb\" target=\"_blank\">more info</a>.</p>\n"
            ],
            "text/plain": [
              "<IPython.core.display.HTML object>"
            ]
          },
          "metadata": {
            "tags": []
          }
        },
        {
          "output_type": "stream",
          "text": [
            "[array([11], dtype=int32), array([30], dtype=int32), array([0.83333333])]\n"
          ],
          "name": "stdout"
        }
      ]
    },
    {
      "cell_type": "markdown",
      "metadata": {
        "id": "typkp4OFdDix",
        "colab_type": "text"
      },
      "source": [
        "Took the code snipnet from : https://www.tensorflow.org/api_docs/python/tf/tuple\n",
        "\n",
        "ops = tf.tuple([tensor1,tensor2,...],control_inputs=c_ops)\n",
        "\n",
        "tf.tuple(\n",
        "    tensors,\n",
        "    control_inputs=None,\n",
        "    name=None\n",
        ")\n",
        "\n",
        "output :\n",
        "\n",
        "[array([11], dtype=int32), array([30], dtype=int32), array([0.83333333])]"
      ]
    },
    {
      "cell_type": "code",
      "metadata": {
        "id": "RF-rYVHWc3NP",
        "colab_type": "code",
        "colab": {}
      },
      "source": [
        ""
      ],
      "execution_count": 0,
      "outputs": []
    }
  ]
}
